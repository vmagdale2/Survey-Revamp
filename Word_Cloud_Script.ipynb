{
  "nbformat": 4,
  "nbformat_minor": 0,
  "metadata": {
    "colab": {
      "provenance": [],
      "authorship_tag": "ABX9TyOWH4O8Tejqw+y6KyEnjenW",
      "include_colab_link": true
    },
    "kernelspec": {
      "name": "python3",
      "display_name": "Python 3"
    },
    "language_info": {
      "name": "python"
    }
  },
  "cells": [
    {
      "cell_type": "markdown",
      "metadata": {
        "id": "view-in-github",
        "colab_type": "text"
      },
      "source": [
        "<a href=\"https://colab.research.google.com/github/vmagdale2/Survey-Revamp/blob/main/Word_Cloud_Script.ipynb\" target=\"_parent\"><img src=\"https://colab.research.google.com/assets/colab-badge.svg\" alt=\"Open In Colab\"/></a>"
      ]
    },
    {
      "cell_type": "markdown",
      "source": [
        "# Word Cloud Script"
      ],
      "metadata": {
        "id": "pydiwbDxwzmF"
      }
    },
    {
      "cell_type": "markdown",
      "source": [],
      "metadata": {
        "id": "2dZtQtm7xA6l"
      }
    },
    {
      "cell_type": "code",
      "execution_count": null,
      "metadata": {
        "id": "MrZVxZXmww7M"
      },
      "outputs": [],
      "source": [
        "query = f\"\"\"\n",
        "SELECT\n",
        "  Insigh_Speakers\n",
        "FROM\n",
        "  `{project_id}.{dataset_table}`\n",
        "WHERE\n",
        "  Insigh_Speakers IS NOT NULL\n",
        "\"\"\"\n",
        "\n",
        "query_job = client.query(query)\n",
        "results = query_job.result()\n",
        "\n",
        "responses = [row.Insigh_Speakers for row in results]\n",
        "\n",
        "text_data = \" \".join(responses)\n",
        "\n",
        "wordcloud = WordCloud(\n",
        "    width=800,\n",
        "    height=400,\n",
        "    background_color=\"white\",\n",
        "    stopwords=None\n",
        ").generate(text_data)\n",
        "\n",
        "plt.figure(figsize=(10, 5))\n",
        "plt.imshow(wordcloud, interpolation=\"bilinear\")\n",
        "plt.axis(\"off\")\n",
        "plt.title(\"Word Cloud for Insightful Speakers\", fontsize=20)\n",
        "plt.show()"
      ]
    }
  ]
}